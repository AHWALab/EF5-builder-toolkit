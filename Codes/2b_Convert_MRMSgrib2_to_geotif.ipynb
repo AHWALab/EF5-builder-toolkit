{
  "nbformat": 4,
  "nbformat_minor": 0,
  "metadata": {
    "colab": {
      "provenance": []
    },
    "kernelspec": {
      "name": "python3",
      "display_name": "Python 3"
    },
    "language_info": {
      "name": "python"
    }
  },
  "cells": [
    {
      "cell_type": "markdown",
      "source": [
        "This python script convert .grib2 files into .tif format"
      ],
      "metadata": {
        "id": "pchMVysxQwR9"
      }
    },
    {
      "cell_type": "code",
      "source": [
        "#import libraries\n",
        "from google.colab import files\n",
        "import os\n",
        "import subprocess\n",
        "import glob"
      ],
      "metadata": {
        "id": "lvL3cusVQ5fV"
      },
      "execution_count": null,
      "outputs": []
    },
    {
      "cell_type": "code",
      "execution_count": null,
      "metadata": {
        "colab": {
          "base_uri": "https://localhost:8080/"
        },
        "id": "kGgVZDzYQgAu",
        "outputId": "c5b8adcf-eaaf-437c-f9cd-e6622373b052"
      },
      "outputs": [
        {
          "output_type": "stream",
          "name": "stdout",
          "text": [
            "Reading package lists... Done\n",
            "Building dependency tree... Done\n",
            "Reading state information... Done\n",
            "The following additional packages will be installed:\n",
            "  python3-gdal python3-numpy\n",
            "Suggested packages:\n",
            "  libgdal-grass python-numpy-doc python3-pytest\n",
            "The following NEW packages will be installed:\n",
            "  gdal-bin python3-gdal python3-numpy\n",
            "0 upgraded, 3 newly installed, 0 to remove and 29 not upgraded.\n",
            "Need to get 5,055 kB of archives.\n",
            "After this operation, 25.1 MB of additional disk space will be used.\n",
            "Get:1 http://archive.ubuntu.com/ubuntu jammy-updates/main amd64 python3-numpy amd64 1:1.21.5-1ubuntu22.04.1 [3,467 kB]\n",
            "Get:2 https://ppa.launchpadcontent.net/ubuntugis/ppa/ubuntu jammy/main amd64 python3-gdal amd64 3.6.4+dfsg-1~jammy0 [1,027 kB]\n",
            "Get:3 https://ppa.launchpadcontent.net/ubuntugis/ppa/ubuntu jammy/main amd64 gdal-bin amd64 3.6.4+dfsg-1~jammy0 [561 kB]\n",
            "Fetched 5,055 kB in 7s (698 kB/s)\n",
            "Selecting previously unselected package python3-numpy.\n",
            "(Reading database ... 126210 files and directories currently installed.)\n",
            "Preparing to unpack .../python3-numpy_1%3a1.21.5-1ubuntu22.04.1_amd64.deb ...\n",
            "Unpacking python3-numpy (1:1.21.5-1ubuntu22.04.1) ...\n",
            "Selecting previously unselected package python3-gdal.\n",
            "Preparing to unpack .../python3-gdal_3.6.4+dfsg-1~jammy0_amd64.deb ...\n",
            "Unpacking python3-gdal (3.6.4+dfsg-1~jammy0) ...\n",
            "Selecting previously unselected package gdal-bin.\n",
            "Preparing to unpack .../gdal-bin_3.6.4+dfsg-1~jammy0_amd64.deb ...\n",
            "Unpacking gdal-bin (3.6.4+dfsg-1~jammy0) ...\n",
            "Setting up python3-numpy (1:1.21.5-1ubuntu22.04.1) ...\n",
            "Setting up python3-gdal (3.6.4+dfsg-1~jammy0) ...\n",
            "Setting up gdal-bin (3.6.4+dfsg-1~jammy0) ...\n",
            "Processing triggers for man-db (2.10.2-1) ...\n"
          ]
        }
      ],
      "source": [
        "# Install GDAL if not already installed (This could take few minutes)\n",
        "!apt-get install -y gdal-bin"
      ]
    },
    {
      "cell_type": "markdown",
      "source": [
        "Upload GeoTIFF files from your local machine to Google Colab"
      ],
      "metadata": {
        "id": "D-p6BBOSS4pE"
      }
    },
    {
      "cell_type": "code",
      "source": [
        "uploaded = files.upload()"
      ],
      "metadata": {
        "colab": {
          "base_uri": "https://localhost:8080/"
        },
        "id": "pho1jHmuQvXM",
        "outputId": "9ae01540-594f-4b0d-c933-a4c519fe30cd"
      },
      "execution_count": null,
      "outputs": [
        {
          "data": {
            "text/html": [
              "\n",
              "     <input type=\"file\" id=\"files-1b9ef65d-f553-4683-84b6-e4ae1b165b62\" name=\"files[]\" multiple disabled\n",
              "        style=\"border:none\" />\n",
              "     <output id=\"result-1b9ef65d-f553-4683-84b6-e4ae1b165b62\">\n",
              "      Upload widget is only available when the cell has been executed in the\n",
              "      current browser session. Please rerun this cell to enable.\n",
              "      </output>\n",
              "      <script>// Copyright 2017 Google LLC\n",
              "//\n",
              "// Licensed under the Apache License, Version 2.0 (the \"License\");\n",
              "// you may not use this file except in compliance with the License.\n",
              "// You may obtain a copy of the License at\n",
              "//\n",
              "//      http://www.apache.org/licenses/LICENSE-2.0\n",
              "//\n",
              "// Unless required by applicable law or agreed to in writing, software\n",
              "// distributed under the License is distributed on an \"AS IS\" BASIS,\n",
              "// WITHOUT WARRANTIES OR CONDITIONS OF ANY KIND, either express or implied.\n",
              "// See the License for the specific language governing permissions and\n",
              "// limitations under the License.\n",
              "\n",
              "/**\n",
              " * @fileoverview Helpers for google.colab Python module.\n",
              " */\n",
              "(function(scope) {\n",
              "function span(text, styleAttributes = {}) {\n",
              "  const element = document.createElement('span');\n",
              "  element.textContent = text;\n",
              "  for (const key of Object.keys(styleAttributes)) {\n",
              "    element.style[key] = styleAttributes[key];\n",
              "  }\n",
              "  return element;\n",
              "}\n",
              "\n",
              "// Max number of bytes which will be uploaded at a time.\n",
              "const MAX_PAYLOAD_SIZE = 100 * 1024;\n",
              "\n",
              "function _uploadFiles(inputId, outputId) {\n",
              "  const steps = uploadFilesStep(inputId, outputId);\n",
              "  const outputElement = document.getElementById(outputId);\n",
              "  // Cache steps on the outputElement to make it available for the next call\n",
              "  // to uploadFilesContinue from Python.\n",
              "  outputElement.steps = steps;\n",
              "\n",
              "  return _uploadFilesContinue(outputId);\n",
              "}\n",
              "\n",
              "// This is roughly an async generator (not supported in the browser yet),\n",
              "// where there are multiple asynchronous steps and the Python side is going\n",
              "// to poll for completion of each step.\n",
              "// This uses a Promise to block the python side on completion of each step,\n",
              "// then passes the result of the previous step as the input to the next step.\n",
              "function _uploadFilesContinue(outputId) {\n",
              "  const outputElement = document.getElementById(outputId);\n",
              "  const steps = outputElement.steps;\n",
              "\n",
              "  const next = steps.next(outputElement.lastPromiseValue);\n",
              "  return Promise.resolve(next.value.promise).then((value) => {\n",
              "    // Cache the last promise value to make it available to the next\n",
              "    // step of the generator.\n",
              "    outputElement.lastPromiseValue = value;\n",
              "    return next.value.response;\n",
              "  });\n",
              "}\n",
              "\n",
              "/**\n",
              " * Generator function which is called between each async step of the upload\n",
              " * process.\n",
              " * @param {string} inputId Element ID of the input file picker element.\n",
              " * @param {string} outputId Element ID of the output display.\n",
              " * @return {!Iterable<!Object>} Iterable of next steps.\n",
              " */\n",
              "function* uploadFilesStep(inputId, outputId) {\n",
              "  const inputElement = document.getElementById(inputId);\n",
              "  inputElement.disabled = false;\n",
              "\n",
              "  const outputElement = document.getElementById(outputId);\n",
              "  outputElement.innerHTML = '';\n",
              "\n",
              "  const pickedPromise = new Promise((resolve) => {\n",
              "    inputElement.addEventListener('change', (e) => {\n",
              "      resolve(e.target.files);\n",
              "    });\n",
              "  });\n",
              "\n",
              "  const cancel = document.createElement('button');\n",
              "  inputElement.parentElement.appendChild(cancel);\n",
              "  cancel.textContent = 'Cancel upload';\n",
              "  const cancelPromise = new Promise((resolve) => {\n",
              "    cancel.onclick = () => {\n",
              "      resolve(null);\n",
              "    };\n",
              "  });\n",
              "\n",
              "  // Wait for the user to pick the files.\n",
              "  const files = yield {\n",
              "    promise: Promise.race([pickedPromise, cancelPromise]),\n",
              "    response: {\n",
              "      action: 'starting',\n",
              "    }\n",
              "  };\n",
              "\n",
              "  cancel.remove();\n",
              "\n",
              "  // Disable the input element since further picks are not allowed.\n",
              "  inputElement.disabled = true;\n",
              "\n",
              "  if (!files) {\n",
              "    return {\n",
              "      response: {\n",
              "        action: 'complete',\n",
              "      }\n",
              "    };\n",
              "  }\n",
              "\n",
              "  for (const file of files) {\n",
              "    const li = document.createElement('li');\n",
              "    li.append(span(file.name, {fontWeight: 'bold'}));\n",
              "    li.append(span(\n",
              "        `(${file.type || 'n/a'}) - ${file.size} bytes, ` +\n",
              "        `last modified: ${\n",
              "            file.lastModifiedDate ? file.lastModifiedDate.toLocaleDateString() :\n",
              "                                    'n/a'} - `));\n",
              "    const percent = span('0% done');\n",
              "    li.appendChild(percent);\n",
              "\n",
              "    outputElement.appendChild(li);\n",
              "\n",
              "    const fileDataPromise = new Promise((resolve) => {\n",
              "      const reader = new FileReader();\n",
              "      reader.onload = (e) => {\n",
              "        resolve(e.target.result);\n",
              "      };\n",
              "      reader.readAsArrayBuffer(file);\n",
              "    });\n",
              "    // Wait for the data to be ready.\n",
              "    let fileData = yield {\n",
              "      promise: fileDataPromise,\n",
              "      response: {\n",
              "        action: 'continue',\n",
              "      }\n",
              "    };\n",
              "\n",
              "    // Use a chunked sending to avoid message size limits. See b/62115660.\n",
              "    let position = 0;\n",
              "    do {\n",
              "      const length = Math.min(fileData.byteLength - position, MAX_PAYLOAD_SIZE);\n",
              "      const chunk = new Uint8Array(fileData, position, length);\n",
              "      position += length;\n",
              "\n",
              "      const base64 = btoa(String.fromCharCode.apply(null, chunk));\n",
              "      yield {\n",
              "        response: {\n",
              "          action: 'append',\n",
              "          file: file.name,\n",
              "          data: base64,\n",
              "        },\n",
              "      };\n",
              "\n",
              "      let percentDone = fileData.byteLength === 0 ?\n",
              "          100 :\n",
              "          Math.round((position / fileData.byteLength) * 100);\n",
              "      percent.textContent = `${percentDone}% done`;\n",
              "\n",
              "    } while (position < fileData.byteLength);\n",
              "  }\n",
              "\n",
              "  // All done.\n",
              "  yield {\n",
              "    response: {\n",
              "      action: 'complete',\n",
              "    }\n",
              "  };\n",
              "}\n",
              "\n",
              "scope.google = scope.google || {};\n",
              "scope.google.colab = scope.google.colab || {};\n",
              "scope.google.colab._files = {\n",
              "  _uploadFiles,\n",
              "  _uploadFilesContinue,\n",
              "};\n",
              "})(self);\n",
              "</script> "
            ],
            "text/plain": [
              "<IPython.core.display.HTML object>"
            ]
          },
          "metadata": {},
          "output_type": "display_data"
        }
      ]
    },
    {
      "cell_type": "code",
      "source": [
        "# Define paths\n",
        "path_grib = \"/content/\"  # Change to your directory\n",
        "path_gdal = \"/content/\"  # Change to your directory\n",
        "\n",
        "#To verify uploaded files, use the following:\n",
        "os.listdir()\n"
      ],
      "metadata": {
        "colab": {
          "base_uri": "https://localhost:8080/"
        },
        "id": "4iP6pWxuQuIB",
        "outputId": "683175ae-9c97-43c7-e9ad-a0b93e0a8dd0"
      },
      "execution_count": null,
      "outputs": [
        {
          "output_type": "execute_result",
          "data": {
            "text/plain": [
              "['.config',\n",
              " 'MRMS_GaugeCorr_QPE_01H_00.00_20190527-010000.tif',\n",
              " 'MRMS_GaugeCorr_QPE_01H_00.00_20190527-010000.grib2',\n",
              " 'sample_data']"
            ]
          },
          "metadata": {},
          "execution_count": 9
        }
      ]
    },
    {
      "cell_type": "code",
      "source": [
        "# Find all .grib2 files\n",
        "files = glob.glob(f'{path_grib}*.grib2')\n",
        "print(files)"
      ],
      "metadata": {
        "colab": {
          "base_uri": "https://localhost:8080/"
        },
        "id": "doaK48sRQvEw",
        "outputId": "330e3a24-0fd0-4669-9e1c-0b5a546c400b"
      },
      "execution_count": null,
      "outputs": [
        {
          "output_type": "stream",
          "name": "stdout",
          "text": [
            "['/content/MRMS_GaugeCorr_QPE_01H_00.00_20190527-010000.grib2']\n"
          ]
        }
      ]
    },
    {
      "cell_type": "markdown",
      "source": [
        "MRMS handles two types of missing values (Missing and No Coverage). Depending on the MRMS variable you are using, these values may change. Check the documentation for the product you are using here: [MRMS GRIB2 Tables](https://www.nssl.noaa.gov/projects/mrms/operational/tables.php) and update those values accordingly."
      ],
      "metadata": {
        "id": "xUI4oF_vanZm"
      }
    },
    {
      "cell_type": "code",
      "source": [
        "missing = -1\n",
        "no_coverage = -3"
      ],
      "metadata": {
        "id": "PLur5inrammg"
      },
      "execution_count": null,
      "outputs": []
    },
    {
      "cell_type": "code",
      "source": [],
      "metadata": {
        "id": "aCdYi8S34-Yg"
      },
      "execution_count": null,
      "outputs": []
    },
    {
      "cell_type": "code",
      "source": [
        "file = files[0] #Because files is an array of strings\n",
        "\n",
        "output_name = os.path.basename(file)[:-6] + '.tif'  # Remove .grib2 extension\n",
        "output_path = os.path.join(path_gdal, output_name)\n",
        "temp_output_path = output_path.replace('.tif', '_temp.tif')  # Temporary file\n",
        "\n",
        "try:\n",
        "    # Step 1: Convert .grib2 to .tif\n",
        "    command_translate = f\"gdal_translate -of GTiff -a_nodata -9999 -ot Float32 -a_srs EPSG:4326 {file} {temp_output_path}\"\n",
        "    subprocess.run(command_translate, shell=True, check=True)\n",
        "\n",
        "    # Step 2: Replace missing and no coverage data with -9999 using gdal_calc.py\n",
        "    command_calc = (\n",
        "        f\"gdal_calc.py --overwrite --quiet \"\n",
        "        f\"-A {temp_output_path} --outfile={output_path} \"\n",
        "        f\"--calc='numpy.where((A=={missing}) | (A=={no_coverage}) | (A==-9999), -9999, A)' \"\n",
        "        f\"--NoDataValue=-9999 --type=Float32\"\n",
        "    )\n",
        "    subprocess.run(command_calc, shell=True, check=True)\n",
        "\n",
        "    # Remove the temporary file\n",
        "    os.remove(temp_output_path)\n",
        "\n",
        "    print(f'File converted and corrected: {output_name}')\n",
        "\n",
        "except Exception as e:\n",
        "    print(f\"Error processing file {file}: {str(e)}\")\n"
      ],
      "metadata": {
        "colab": {
          "base_uri": "https://localhost:8080/"
        },
        "id": "4QYPevqRU_Xo",
        "outputId": "d6498745-4929-444a-86d7-e5329ecf5d2c"
      },
      "execution_count": null,
      "outputs": [
        {
          "output_type": "stream",
          "name": "stdout",
          "text": [
            "File converted and corrected: MRMS_GaugeCorr_QPE_01H_00.00_20190527-010000.tif\n"
          ]
        }
      ]
    },
    {
      "cell_type": "code",
      "source": [
        "  output_name = os.path.basename(file)[:-6] + '.tif'  # Remove .grib2 extension\n",
        "\n",
        "  output_path = os.path.join(path_gdal, output_name)\n",
        "\n",
        "  temp_output_path = output_path.replace('.tif', '_temp.tif')  # Temporary file\n",
        "\n",
        "\n",
        "\n",
        "  try:\n",
        "\n",
        "     # Step 1: Convert .grib2 to .tif\n",
        "\n",
        "     command_translate = f\"gdal_translate -of GTiff -a_nodata -9999 -ot Float32 -a_srs EPSG:4326 {file} {temp_output_path}\"\n",
        "\n",
        "     subprocess.run(command_translate, shell=True, check=True)\n",
        "\n",
        "\n",
        "\n",
        "     print(f'File converted and corrected: {output_name}')\n",
        "\n",
        "\n",
        "\n",
        "  except Exception as e:\n",
        "\n",
        "     print(f\"Error processing file {file}: {str(e)}\")"
      ],
      "metadata": {
        "id": "kJvfR28fcsjV"
      },
      "execution_count": null,
      "outputs": []
    }
  ]
}